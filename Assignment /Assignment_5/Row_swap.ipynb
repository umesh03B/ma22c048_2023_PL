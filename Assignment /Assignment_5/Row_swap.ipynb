{
  "nbformat": 4,
  "nbformat_minor": 0,
  "metadata": {
    "colab": {
      "provenance": [],
      "authorship_tag": "ABX9TyMa17BJ3Fgn34egorRfTx6Z",
      "include_colab_link": true
    },
    "kernelspec": {
      "name": "python3",
      "display_name": "Python 3"
    },
    "language_info": {
      "name": "python"
    }
  },
  "cells": [
    {
      "cell_type": "markdown",
      "metadata": {
        "id": "view-in-github",
        "colab_type": "text"
      },
      "source": [
        "<a href=\"https://colab.research.google.com/github/umesh03B/ma22c048_2023_PL/blob/main/Assignment%20/Assignment_5/Row_swap.ipynb\" target=\"_parent\"><img src=\"https://colab.research.google.com/assets/colab-badge.svg\" alt=\"Open In Colab\"/></a>"
      ]
    },
    {
      "cell_type": "code",
      "execution_count": null,
      "metadata": {
        "colab": {
          "base_uri": "https://localhost:8080/"
        },
        "id": "HJLmuiFz2qvw",
        "outputId": "92c243de-b039-4471-97c3-f01f4e015376"
      },
      "outputs": [
        {
          "output_type": "stream",
          "name": "stdout",
          "text": [
            "[[7 8 9]\n",
            " [4 5 6]\n",
            " [7 8 9]]\n"
          ]
        }
      ],
      "source": [
        "import numpy as np\n",
        "\n",
        "def given_swap_row(i, j, A):\n",
        "    tmp = A[i, :] #velue of tmp='i'th row of A\n",
        "    A[i, :] = A[j, :] # velue of 'i'th row changed new velue of 'i'th row = 'j'th row of A so velue of tmp is also changed so new value of tmp = velue of 'j'th row of orignal matrix\n",
        "    A[j, :] = tmp # value of 'j'th row changed buy tmp which is 'j'th row of orignal matrix\n",
        "    return A      # so after interchanging 'i'th and 'j'th row we get the metrix whose 'i'th and 'j'th row are same (i.e 'j'th row of orignal matrix)\n",
        "\n",
        "A = np.array([[1, 2, 3],\n",
        "              [4, 5, 6],\n",
        "              [7, 8, 9]])\n",
        "\n",
        "# Call given_swap_row() to interchange rows 0 and 2 (first and last rows)\n",
        "result = given_swap_row(0, 2, A)\n",
        "\n",
        "# Print the result\n",
        "print(result)\n",
        "\n"
      ]
    },
    {
      "cell_type": "markdown",
      "source": [
        "so there is a problem in given code"
      ],
      "metadata": {
        "id": "pE2e-IYgVK4K"
      }
    },
    {
      "cell_type": "code",
      "source": [
        "def modifide_swap_rows(i, j, A):\n",
        "    \"\"\"\n",
        "    Swap rows i and j in a numpy array A.\n",
        "\n",
        "    Parameters:\n",
        "    - i: Index of the first row to swap.\n",
        "    - j: Index of the second row to swap.\n",
        "    - A: The numpy array in which rows will be swapped.\n",
        "\n",
        "    Returns:\n",
        "    - A: The numpy array with rows i and j swapped.\n",
        "    \"\"\"\n",
        "\n",
        "    # Check if i and j are valid row indices\n",
        "    if i < 0 or i >= len(A) or j < 0 or j >=len(A):\n",
        "        print(\"Invalid row indices.\")\n",
        "    else:\n",
        "        tmp = A[i, :].copy()  # Make a copy of the row so that velue of tmp not change if we change velue of A[i,:]\n",
        "        A[i, :] = A[j, :]\n",
        "        A[j, :] = tmp\n",
        "        return A\n",
        "\n",
        "A = np.array([[1, 2, 3],\n",
        "              [4, 5, 6],\n",
        "              [7, 8, 9]])\n",
        "\n",
        "# Call modifide_swap_rows() to interchange rows 0 and 2 (first and last rows)\n",
        "result = modifide_swap_rows(0, 2, A)\n",
        "\n",
        "# Print the result\n",
        "print(result)"
      ],
      "metadata": {
        "colab": {
          "base_uri": "https://localhost:8080/"
        },
        "id": "Y_JVmh-8_1g4",
        "outputId": "11b3c1a2-1e47-476b-83e1-d1b41f254785"
      },
      "execution_count": null,
      "outputs": [
        {
          "output_type": "stream",
          "name": "stdout",
          "text": [
            "[[7 8 9]\n",
            " [4 5 6]\n",
            " [1 2 3]]\n"
          ]
        }
      ]
    },
    {
      "cell_type": "markdown",
      "source": [
        "NumPy arrays are mutable objects, and when you assign one array to another variable, you are essentially creating a reference to the same underlying data. Without .copy(), both tmp and A[i, :] would refer to the same row in memory.\n",
        "By using .copy(), you create a new copy of the row in tmp, ensuring that the original values of A[i, :] are preserved, and the swap works as expected."
      ],
      "metadata": {
        "id": "6yv_OLB6V98k"
      }
    }
  ]
}