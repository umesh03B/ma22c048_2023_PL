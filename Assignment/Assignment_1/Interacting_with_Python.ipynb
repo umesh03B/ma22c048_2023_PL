{
  "nbformat": 4,
  "nbformat_minor": 0,
  "metadata": {
    "colab": {
      "provenance": [],
      "authorship_tag": "ABX9TyMOiTeQeBGTw6AylFi8MOxI",
      "include_colab_link": true
    },
    "kernelspec": {
      "name": "python3",
      "display_name": "Python 3"
    },
    "language_info": {
      "name": "python"
    }
  },
  "cells": [
    {
      "cell_type": "markdown",
      "metadata": {
        "id": "view-in-github",
        "colab_type": "text"
      },
      "source": [
        "<a href=\"https://colab.research.google.com/github/umesh03B/ma22c048_2023_PL/blob/main/Assignment/Assignment_1/Interacting_with_Python.ipynb\" target=\"_parent\"><img src=\"https://colab.research.google.com/assets/colab-badge.svg\" alt=\"Open In Colab\"/></a>"
      ]
    },
    {
      "cell_type": "code",
      "execution_count": null,
      "metadata": {
        "colab": {
          "base_uri": "https://localhost:8080/"
        },
        "id": "X8m6lee4nPoZ",
        "outputId": "16ebf42d-9e06-4961-ba98-03ab86e19ec1"
      },
      "outputs": [
        {
          "output_type": "execute_result",
          "data": {
            "text/plain": [
              "0.14008146171564725"
            ]
          },
          "metadata": {},
          "execution_count": 1
        }
      ],
      "source": [
        "# Use of math module. whitch is built-in module that we can use for mathematical tasks.\n",
        "from math import cos, sqrt, pi\n",
        "cos(pi*sqrt(pi))**7"
      ]
    },
    {
      "cell_type": "code",
      "source": [
        "#------- myfirstpy.py ---------------------------------\n",
        "from math import cos, sqrt, pi\n",
        "print('Hello, I can compute! ')\n",
        "x = 3\n",
        "y = cos(pi*sqrt(pi)*x)**7\n",
        "print('Starting from x =', x, 'we have computed y=', y)\n",
        "#------------------------------------------------------"
      ],
      "metadata": {
        "id": "PnOzvoe81CbK",
        "outputId": "bed24a14-cd21-4e5f-d6d3-3353f122121c",
        "colab": {
          "base_uri": "https://localhost:8080/"
        }
      },
      "execution_count": null,
      "outputs": [
        {
          "output_type": "stream",
          "name": "stdout",
          "text": [
            "Hello, I can compute! \n",
            "Starting from x = 3 we have computed y= -0.013884089495354414\n"
          ]
        }
      ]
    },
    {
      "cell_type": "code",
      "source": [
        "print('Hello, I can compute! ') # print function to prints the specified message to the screen.\n",
        "x = 3\n",
        "y = cos(pi*sqrt(pi)*x)**7\n",
        "print('Starting from x =', x, 'we have computed y=', y)"
      ],
      "metadata": {
        "colab": {
          "base_uri": "https://localhost:8080/"
        },
        "id": "jIbw5V3Mn5zN",
        "outputId": "db3cf23b-67b1-4c51-d0b2-6a118637950e"
      },
      "execution_count": null,
      "outputs": [
        {
          "output_type": "stream",
          "name": "stdout",
          "text": [
            "Hello, I can compute! \n",
            "Starting from x = 3 we have computed y= -0.013884089495354414\n"
          ]
        }
      ]
    }
  ]
}