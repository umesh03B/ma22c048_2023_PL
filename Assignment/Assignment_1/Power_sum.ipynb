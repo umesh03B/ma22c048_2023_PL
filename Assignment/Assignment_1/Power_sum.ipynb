{
  "nbformat": 4,
  "nbformat_minor": 0,
  "metadata": {
    "colab": {
      "provenance": [],
      "authorship_tag": "ABX9TyM9IxjQFjGh7uhUWCtJIdQ4",
      "include_colab_link": true
    },
    "kernelspec": {
      "name": "python3",
      "display_name": "Python 3"
    },
    "language_info": {
      "name": "python"
    }
  },
  "cells": [
    {
      "cell_type": "markdown",
      "metadata": {
        "id": "view-in-github",
        "colab_type": "text"
      },
      "source": [
        "<a href=\"https://colab.research.google.com/github/umesh03B/ma22c048_2023_PL/blob/main/Assignment/Assignment_1/Power_sum.ipynb\" target=\"_parent\"><img src=\"https://colab.research.google.com/assets/colab-badge.svg\" alt=\"Open In Colab\"/></a>"
      ]
    },
    {
      "cell_type": "code",
      "execution_count": null,
      "metadata": {
        "colab": {
          "base_uri": "https://localhost:8080/"
        },
        "id": "7uVkMxeawOnz",
        "outputId": "c14728d2-2488-4f89-ed45-e952137ee68b"
      },
      "outputs": [
        {
          "output_type": "stream",
          "name": "stdout",
          "text": [
            "power 2\n",
            "upper limit of sum 10\n",
            "100\n"
          ]
        }
      ],
      "source": [
        "N=int(input(\"upper limit of sum \")) # take input from user for upper limit of sum\n",
        "i=int(input(\"power \")) # take input from user for power of a_n\n",
        "sum=0 #creat veriable to count sum\n",
        "for n in range(1,N+1): # use for loop which execute statement inside it agian and agian till n=N+1,in each loop n^i add in sum and value of n increase by 1\n",
        "  sum+=n**i # n*i  means n^i\n",
        "print(sum)\n"
      ]
    }
  ]
}