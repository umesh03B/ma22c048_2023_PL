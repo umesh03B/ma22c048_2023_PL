{
  "nbformat": 4,
  "nbformat_minor": 0,
  "metadata": {
    "colab": {
      "provenance": [],
      "toc_visible": true,
      "mount_file_id": "1rAc28vdRZmoSZOhX2ZxhIvVIGzlYyb5e",
      "authorship_tag": "ABX9TyNYXZ98G6AjU6l3Km9liNMn",
      "include_colab_link": true
    },
    "kernelspec": {
      "name": "python3",
      "display_name": "Python 3"
    },
    "language_info": {
      "name": "python"
    }
  },
  "cells": [
    {
      "cell_type": "markdown",
      "metadata": {
        "id": "view-in-github",
        "colab_type": "text"
      },
      "source": [
        "<a href=\"https://colab.research.google.com/github/umesh03B/ma22c048_2023_PL/blob/main/Assignment/Assignment_4/Fibonacci_primes.ipynb\" target=\"_parent\"><img src=\"https://colab.research.google.com/assets/colab-badge.svg\" alt=\"Open In Colab\"/></a>"
      ]
    },
    {
      "cell_type": "code",
      "execution_count": null,
      "metadata": {
        "colab": {
          "base_uri": "https://localhost:8080/"
        },
        "id": "TEw_NbVHWGRd",
        "outputId": "7b5a86f0-b4e6-4d5b-9d03-45791f71b223"
      },
      "outputs": [
        {
          "output_type": "stream",
          "name": "stdout",
          "text": [
            "[1, 4, 9, 16, 25, 36, 49, 64, 81]\n"
          ]
        }
      ],
      "source": [
        "i=2; N=10\n",
        "L = [n**i for n in range(1, N)]\n",
        "print(L)"
      ]
    },
    {
      "cell_type": "code",
      "source": [
        "G = (n**i for n in range(1, N))"
      ],
      "metadata": {
        "id": "wmojYM_5WNUT"
      },
      "execution_count": null,
      "outputs": []
    },
    {
      "cell_type": "code",
      "source": [
        "[l for l in L]"
      ],
      "metadata": {
        "colab": {
          "base_uri": "https://localhost:8080/"
        },
        "id": "IKtmWoBHWWGO",
        "outputId": "e2feac57-6c53-47d0-e71d-072ffadd8849"
      },
      "execution_count": null,
      "outputs": [
        {
          "output_type": "execute_result",
          "data": {
            "text/plain": [
              "[1, 4, 9, 16, 25, 36, 49, 64, 81]"
            ]
          },
          "metadata": {},
          "execution_count": 9
        }
      ]
    },
    {
      "cell_type": "code",
      "source": [
        "[g for g in G]"
      ],
      "metadata": {
        "colab": {
          "base_uri": "https://localhost:8080/"
        },
        "id": "po9JA_GAWWJC",
        "outputId": "0844b14c-0a70-4817-d4e2-e6a982e344c1"
      },
      "execution_count": null,
      "outputs": [
        {
          "output_type": "execute_result",
          "data": {
            "text/plain": [
              "[1, 4, 9, 16, 25, 36, 49, 64, 81]"
            ]
          },
          "metadata": {},
          "execution_count": 10
        }
      ]
    },
    {
      "cell_type": "code",
      "source": [
        "[g for g in G]"
      ],
      "metadata": {
        "colab": {
          "base_uri": "https://localhost:8080/"
        },
        "id": "36c0N1tAWWL9",
        "outputId": "9addf3f1-1b31-4a96-e0d1-47a609d2e382"
      },
      "execution_count": null,
      "outputs": [
        {
          "output_type": "execute_result",
          "data": {
            "text/plain": [
              "[]"
            ]
          },
          "metadata": {},
          "execution_count": 11
        }
      ]
    },
    {
      "cell_type": "code",
      "source": [
        "def GG():\n",
        "  for n in range(1, N):\n",
        "     yield n**i"
      ],
      "metadata": {
        "id": "8xRVRDPrWWO1"
      },
      "execution_count": null,
      "outputs": []
    },
    {
      "cell_type": "code",
      "source": [
        "G2 = GG()\n",
        "print(*G2)"
      ],
      "metadata": {
        "colab": {
          "base_uri": "https://localhost:8080/"
        },
        "id": "TP_ZrdaNWWSP",
        "outputId": "632d528e-0ea7-4e8c-c167-1cea274be163"
      },
      "execution_count": null,
      "outputs": [
        {
          "output_type": "stream",
          "name": "stdout",
          "text": [
            "1 4 9 16 25 36 49 64 81\n"
          ]
        }
      ]
    },
    {
      "cell_type": "code",
      "source": [
        "G2 = GG()\n",
        "# get the first 3 values of the sequence using next:\n",
        "next(G2), next(G2), next(G2)"
      ],
      "metadata": {
        "colab": {
          "base_uri": "https://localhost:8080/"
        },
        "id": "hwGEjtwAWoke",
        "outputId": "e489c7a1-3d52-422d-8526-be73fd7c6b8b"
      },
      "execution_count": null,
      "outputs": [
        {
          "output_type": "execute_result",
          "data": {
            "text/plain": [
              "(1, 4, 9)"
            ]
          },
          "metadata": {},
          "execution_count": 14
        }
      ]
    },
    {
      "cell_type": "code",
      "source": [
        "print(*G2)"
      ],
      "metadata": {
        "colab": {
          "base_uri": "https://localhost:8080/"
        },
        "id": "IwjDVHKYWon_",
        "outputId": "63d4ecb3-a874-466f-ffca-890f5cbd6bad"
      },
      "execution_count": null,
      "outputs": [
        {
          "output_type": "stream",
          "name": "stdout",
          "text": [
            "16 25 36 49 64 81\n"
          ]
        }
      ]
    },
    {
      "cell_type": "code",
      "source": [
        "!pip install memory-profiler"
      ],
      "metadata": {
        "colab": {
          "base_uri": "https://localhost:8080/"
        },
        "id": "ym4Vtb0gW7Ie",
        "outputId": "24312936-5167-4bd7-ee44-758d319f54d8"
      },
      "execution_count": null,
      "outputs": [
        {
          "output_type": "stream",
          "name": "stdout",
          "text": [
            "Collecting memory-profiler\n",
            "  Downloading memory_profiler-0.61.0-py3-none-any.whl (31 kB)\n",
            "Requirement already satisfied: psutil in /usr/local/lib/python3.10/dist-packages (from memory-profiler) (5.9.5)\n",
            "Installing collected packages: memory-profiler\n",
            "Successfully installed memory-profiler-0.61.0\n"
          ]
        }
      ]
    },
    {
      "cell_type": "code",
      "source": [
        "%load_ext memory_profiler"
      ],
      "metadata": {
        "id": "Ug6bgH9bYVz9"
      },
      "execution_count": null,
      "outputs": []
    },
    {
      "cell_type": "code",
      "source": [
        "%reload_ext memory_profiler"
      ],
      "metadata": {
        "id": "BalYuh5eh-e4"
      },
      "execution_count": null,
      "outputs": []
    },
    {
      "cell_type": "code",
      "source": [
        "%memit sum([n**i for n in range(1, N)])"
      ],
      "metadata": {
        "colab": {
          "base_uri": "https://localhost:8080/"
        },
        "id": "lnwLOydRX51f",
        "outputId": "0fce10b6-4f5b-4dcd-b11b-5af2c14938c4"
      },
      "execution_count": null,
      "outputs": [
        {
          "output_type": "stream",
          "name": "stdout",
          "text": [
            "peak memory: 95.80 MiB, increment: 0.30 MiB\n"
          ]
        }
      ]
    },
    {
      "cell_type": "code",
      "source": [
        "G3 = (n**i for n in range(1, N))\n",
        "s = 0\n",
        "for g in G3:\n",
        "    s += g\n",
        "    if g < 1e-15:\n",
        "        break\n",
        "print(s)"
      ],
      "metadata": {
        "id": "McEaxQYdX756",
        "colab": {
          "base_uri": "https://localhost:8080/"
        },
        "outputId": "1aca3778-110c-4f6a-daab-a45c5a66a60b"
      },
      "execution_count": null,
      "outputs": [
        {
          "output_type": "stream",
          "name": "stdout",
          "text": [
            "285\n"
          ]
        }
      ]
    },
    {
      "cell_type": "code",
      "source": [
        "def natural_numbers():\n",
        "    n = 0\n",
        "    while True:\n",
        "        yield n\n",
        "        n += 1"
      ],
      "metadata": {
        "id": "TX7th0G8iUsi"
      },
      "execution_count": null,
      "outputs": []
    },
    {
      "cell_type": "code",
      "source": [
        "for n in natural_numbers():\n",
        "    print(n)\n",
        "    if n >= 5: break # don't go into infinite loop!"
      ],
      "metadata": {
        "colab": {
          "base_uri": "https://localhost:8080/"
        },
        "id": "WtuzoBFHsX3d",
        "outputId": "c074ff38-c658-4db0-bfaa-a74304906794"
      },
      "execution_count": null,
      "outputs": [
        {
          "output_type": "stream",
          "name": "stdout",
          "text": [
            "0\n",
            "1\n",
            "2\n",
            "3\n",
            "4\n",
            "5\n"
          ]
        }
      ]
    },
    {
      "cell_type": "code",
      "source": [
        "def fibonacci(max):\n",
        "    f, fnext = 0, 1\n",
        "    while f < max:\n",
        "        yield f\n",
        "        f, fnext = fnext, f + fnext"
      ],
      "metadata": {
        "id": "tR3pUKP_sdDf"
      },
      "execution_count": null,
      "outputs": []
    },
    {
      "cell_type": "code",
      "source": [
        "Fn = fibonacci(10000)\n",
        "print(*Fn)"
      ],
      "metadata": {
        "colab": {
          "base_uri": "https://localhost:8080/"
        },
        "id": "c6bzkTWstal3",
        "outputId": "9493c34c-7e3e-4cb9-9ded-013393a9d02e"
      },
      "execution_count": null,
      "outputs": [
        {
          "output_type": "stream",
          "name": "stdout",
          "text": [
            "0 1 1 2 3 5 8 13 21 34 55 89 144 233 377 610 987 1597 2584 4181 6765\n"
          ]
        }
      ]
    },
    {
      "cell_type": "code",
      "source": [
        "P = [2, 3]"
      ],
      "metadata": {
        "id": "p5GGSs6StkjL"
      },
      "execution_count": null,
      "outputs": []
    },
    {
      "cell_type": "code",
      "source": [
        "[4 % p for p in P]"
      ],
      "metadata": {
        "colab": {
          "base_uri": "https://localhost:8080/"
        },
        "id": "56rhJ6rxuMXa",
        "outputId": "2ec880a9-5200-4c75-8a08-d1b10a11fe29"
      },
      "execution_count": null,
      "outputs": [
        {
          "output_type": "execute_result",
          "data": {
            "text/plain": [
              "[0, 1]"
            ]
          },
          "metadata": {},
          "execution_count": 26
        }
      ]
    },
    {
      "cell_type": "code",
      "source": [
        "all([4 % p for p in P])"
      ],
      "metadata": {
        "colab": {
          "base_uri": "https://localhost:8080/"
        },
        "id": "77BMgdCyuXj2",
        "outputId": "d2353a63-e1d1-4932-85cb-c3e5c985609d"
      },
      "execution_count": null,
      "outputs": [
        {
          "output_type": "execute_result",
          "data": {
            "text/plain": [
              "False"
            ]
          },
          "metadata": {},
          "execution_count": 27
        }
      ]
    },
    {
      "cell_type": "code",
      "source": [
        "all([5 % p for p in P])"
      ],
      "metadata": {
        "colab": {
          "base_uri": "https://localhost:8080/"
        },
        "id": "rnQmipo4uXgh",
        "outputId": "f445754a-5149-4582-9270-ab5d89114fbd"
      },
      "execution_count": null,
      "outputs": [
        {
          "output_type": "execute_result",
          "data": {
            "text/plain": [
              "True"
            ]
          },
          "metadata": {},
          "execution_count": 28
        }
      ]
    },
    {
      "cell_type": "code",
      "source": [
        "def prime_numbers(N):\n",
        "    primes = []\n",
        "    q = 1\n",
        "    for n in range(q+1, N):\n",
        "        if all(n % p > 0 for p in primes):\n",
        "            primes.append(n)\n",
        "            q = n\n",
        "            yield n"
      ],
      "metadata": {
        "id": "b4sdEbOquXdQ"
      },
      "execution_count": null,
      "outputs": []
    },
    {
      "cell_type": "code",
      "source": [
        "list(prime_numbers(70))"
      ],
      "metadata": {
        "colab": {
          "base_uri": "https://localhost:8080/"
        },
        "id": "5HG9e8jPuXaO",
        "outputId": "80375e06-a79b-445c-e51d-67077eb4628f"
      },
      "execution_count": null,
      "outputs": [
        {
          "output_type": "execute_result",
          "data": {
            "text/plain": [
              "[2, 3, 5, 7, 11, 13, 17, 19, 23, 29, 31, 37, 41, 43, 47, 53, 59, 61, 67]"
            ]
          },
          "metadata": {},
          "execution_count": 30
        }
      ]
    },
    {
      "cell_type": "code",
      "source": [
        "def fibonacci_primes(N):\n",
        "    F = set(fibonacci(N))\n",
        "    P = set(prime_numbers(N))\n",
        "    print('Intersecting', len(P), 'primes with', len(F), 'fibonaccis.')\n",
        "    return P.intersection(F)\n",
        "fibonacci_primes(100000)"
      ],
      "metadata": {
        "colab": {
          "base_uri": "https://localhost:8080/"
        },
        "id": "sJA0rmTcuXW7",
        "outputId": "a4923f0d-93eb-41c1-f8b9-d35674722599"
      },
      "execution_count": null,
      "outputs": [
        {
          "output_type": "stream",
          "name": "stdout",
          "text": [
            "Intersecting 9592 primes with 25 fibonaccis.\n"
          ]
        },
        {
          "output_type": "execute_result",
          "data": {
            "text/plain": [
              "{2, 3, 5, 13, 89, 233, 1597, 28657}"
            ]
          },
          "metadata": {},
          "execution_count": 31
        }
      ]
    },
    {
      "cell_type": "code",
      "source": [
        "nFP = [3, 4, 5, 7, 11, 13, 17, 23, 29, 43]"
      ],
      "metadata": {
        "id": "_AillQU0uXH9"
      },
      "execution_count": null,
      "outputs": []
    },
    {
      "cell_type": "code",
      "source": [
        "def test_fibonacci_prime():\n",
        "    N = 10000\n",
        "    F = list(fibonacci(N))\n",
        "    nFP = [3, 4, 5, 7, 11, 13, 17, 23, 29, 43]\n",
        "    our_list = fibonacci_primes(N)\n",
        "    known_list = set([F[n] for n in nFP if n < len(F)])\n",
        "    assert len(known_list.difference(our_list))==0, 'We have a bug!'\n",
        "    print('Passed test!')"
      ],
      "metadata": {
        "id": "rxHcbzW10r6L"
      },
      "execution_count": null,
      "outputs": []
    },
    {
      "cell_type": "code",
      "source": [
        "test_fibonacci_prime()"
      ],
      "metadata": {
        "colab": {
          "base_uri": "https://localhost:8080/"
        },
        "id": "mtrT4_ZR0r2v",
        "outputId": "3c7f4593-eeb4-402d-f378-a04c6ecbbe15"
      },
      "execution_count": null,
      "outputs": [
        {
          "output_type": "stream",
          "name": "stdout",
          "text": [
            "Intersecting 1229 primes with 20 fibonaccis.\n",
            "Passed test!\n"
          ]
        }
      ]
    },
    {
      "cell_type": "code",
      "source": [
        "!pytest /content/drive/MyDrive/fibonacci_primes"
      ],
      "metadata": {
        "colab": {
          "base_uri": "https://localhost:8080/"
        },
        "id": "T7Rnd8SFCMCd",
        "outputId": "b3264925-c2eb-442b-a302-e17bc162e977"
      },
      "execution_count": null,
      "outputs": [
        {
          "output_type": "stream",
          "name": "stdout",
          "text": [
            "\u001b[1m============================= test session starts ==============================\u001b[0m\n",
            "platform linux -- Python 3.10.12, pytest-7.4.0, pluggy-1.2.0\n",
            "rootdir: /content\n",
            "plugins: anyio-3.7.1\n",
            "collected 1 item                                                               \u001b[0m\n",
            "\n",
            "drive/MyDrive/fibonacci_primes/test_fibonacci_primes.py \u001b[32m.\u001b[0m\u001b[32m                [100%]\u001b[0m\n",
            "\n",
            "\u001b[32m============================== \u001b[32m\u001b[1m1 passed\u001b[0m\u001b[32m in 1.22s\u001b[0m\u001b[32m ===============================\u001b[0m\n"
          ]
        }
      ]
    },
    {
      "cell_type": "code",
      "source": [
        "!apt-get update                            # i copy this code from google\n",
        "!apt-get install -y primesieve             # becouse colab not support !pip install primesieve\n",
        "!apt-get install -y libprimesieve-dev"
      ],
      "metadata": {
        "colab": {
          "base_uri": "https://localhost:8080/"
        },
        "id": "YDmEwyGVZPJy",
        "outputId": "3a2290f3-8936-41f4-bad7-b2d08bd4c2f6"
      },
      "execution_count": null,
      "outputs": [
        {
          "output_type": "stream",
          "name": "stdout",
          "text": [
            "\r0% [Working]\r            \rHit:1 https://cloud.r-project.org/bin/linux/ubuntu jammy-cran40/ InRelease\n",
            "\r0% [Connecting to archive.ubuntu.com] [Connecting to security.ubuntu.com (91.18\r                                                                               \rHit:2 https://developer.download.nvidia.com/compute/cuda/repos/ubuntu2204/x86_64  InRelease\n",
            "Hit:3 http://security.ubuntu.com/ubuntu jammy-security InRelease\n",
            "Hit:4 http://archive.ubuntu.com/ubuntu jammy InRelease\n",
            "Hit:5 http://archive.ubuntu.com/ubuntu jammy-updates InRelease\n",
            "Hit:6 http://archive.ubuntu.com/ubuntu jammy-backports InRelease\n",
            "Hit:7 https://ppa.launchpadcontent.net/c2d4u.team/c2d4u4.0+/ubuntu jammy InRelease\n",
            "Hit:8 https://ppa.launchpadcontent.net/deadsnakes/ppa/ubuntu jammy InRelease\n",
            "Hit:9 https://ppa.launchpadcontent.net/graphics-drivers/ppa/ubuntu jammy InRelease\n",
            "Hit:10 https://ppa.launchpadcontent.net/ubuntugis/ppa/ubuntu jammy InRelease\n",
            "Reading package lists... Done\n",
            "Reading package lists... Done\n",
            "Building dependency tree... Done\n",
            "Reading state information... Done\n",
            "primesieve is already the newest version (7.8+ds-1).\n",
            "0 upgraded, 0 newly installed, 0 to remove and 16 not upgraded.\n",
            "Reading package lists... Done\n",
            "Building dependency tree... Done\n",
            "Reading state information... Done\n",
            "libprimesieve-dev is already the newest version (7.8+ds-1).\n",
            "0 upgraded, 0 newly installed, 0 to remove and 16 not upgraded.\n"
          ]
        }
      ]
    },
    {
      "cell_type": "code",
      "source": [
        "!pip install primesieve"
      ],
      "metadata": {
        "colab": {
          "base_uri": "https://localhost:8080/"
        },
        "id": "SPvEVvQYtfJu",
        "outputId": "16b8e9d6-08ed-4297-ae58-6e8665510b21"
      },
      "execution_count": null,
      "outputs": [
        {
          "output_type": "stream",
          "name": "stdout",
          "text": [
            "Requirement already satisfied: primesieve in /usr/local/lib/python3.10/dist-packages (2.3.2)\n"
          ]
        }
      ]
    },
    {
      "cell_type": "code",
      "source": [
        "from primesieve import primes # do after you have installed primesieve\n",
        "list(primes(70))"
      ],
      "metadata": {
        "colab": {
          "base_uri": "https://localhost:8080/"
        },
        "id": "zucgfLsrayAX",
        "outputId": "218fc9b3-d74a-4364-dbe2-b5c0d85f9fd9"
      },
      "execution_count": null,
      "outputs": [
        {
          "output_type": "execute_result",
          "data": {
            "text/plain": [
              "[2, 3, 5, 7, 11, 13, 17, 19, 23, 29, 31, 37, 41, 43, 47, 53, 59, 61, 67]"
            ]
          },
          "metadata": {},
          "execution_count": 38
        }
      ]
    },
    {
      "cell_type": "code",
      "source": [
        "%timeit primes(1000)"
      ],
      "metadata": {
        "colab": {
          "base_uri": "https://localhost:8080/"
        },
        "id": "T8SOzfPF0k4q",
        "outputId": "a853ad58-1908-47d3-cb1e-53205bde9bec"
      },
      "execution_count": null,
      "outputs": [
        {
          "output_type": "stream",
          "name": "stdout",
          "text": [
            "4.29 µs ± 2.05 µs per loop (mean ± std. dev. of 7 runs, 100000 loops each)\n"
          ]
        }
      ]
    },
    {
      "cell_type": "code",
      "source": [
        "%timeit list(prime_numbers(1000))"
      ],
      "metadata": {
        "colab": {
          "base_uri": "https://localhost:8080/"
        },
        "id": "ZMDKMqv-0p3Q",
        "outputId": "7c11f191-484b-4f9d-cc3f-e2036ce1ec52"
      },
      "execution_count": null,
      "outputs": [
        {
          "output_type": "stream",
          "name": "stdout",
          "text": [
            "3.25 ms ± 569 µs per loop (mean ± std. dev. of 7 runs, 100 loops each)\n"
          ]
        }
      ]
    },
    {
      "cell_type": "code",
      "source": [
        "import primesieve, math\n",
        "def is_square(n):\n",
        "    s = int(math.sqrt(n))\n",
        "    return s*s == n\n",
        "it = primesieve.Iterator()\n",
        "it.skipto(2**28-1)\n",
        "p = it.next_prime()\n",
        "while p < 2**30-1:\n",
        "    if is_square(5*p*p+4) or is_square(5*p*p-4):\n",
        "        print('¡¡ Got one !! ', p, 'is a Fibonacci prime!')\n",
        "    p = it.next_prime()"
      ],
      "metadata": {
        "colab": {
          "base_uri": "https://localhost:8080/"
        },
        "id": "naiVXZPU1O_L",
        "outputId": "1ebf614e-79ba-4fd9-8909-dc936b1bde22"
      },
      "execution_count": null,
      "outputs": [
        {
          "output_type": "stream",
          "name": "stdout",
          "text": [
            "¡¡ Got one !!  433494437 is a Fibonacci prime!\n"
          ]
        }
      ]
    }
  ]
}