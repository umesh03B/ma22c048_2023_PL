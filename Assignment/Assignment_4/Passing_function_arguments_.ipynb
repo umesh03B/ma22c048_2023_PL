{
  "nbformat": 4,
  "nbformat_minor": 0,
  "metadata": {
    "colab": {
      "provenance": [],
      "authorship_tag": "ABX9TyMFuGaw18frYNCNCfkDbAve",
      "include_colab_link": true
    },
    "kernelspec": {
      "name": "python3",
      "display_name": "Python 3"
    },
    "language_info": {
      "name": "python"
    }
  },
  "cells": [
    {
      "cell_type": "markdown",
      "metadata": {
        "id": "view-in-github",
        "colab_type": "text"
      },
      "source": [
        "<a href=\"https://colab.research.google.com/github/umesh03B/ma22c048_2023_PL/blob/main/Assignment/Assignment_4/Passing_function_arguments_.ipynb\" target=\"_parent\"><img src=\"https://colab.research.google.com/assets/colab-badge.svg\" alt=\"Open In Colab\"/></a>"
      ]
    },
    {
      "cell_type": "code",
      "source": [
        "import numpy as np"
      ],
      "metadata": {
        "id": "OzDa3gsLD1Jj"
      },
      "execution_count": null,
      "outputs": []
    },
    {
      "cell_type": "code",
      "execution_count": null,
      "metadata": {
        "id": "Z3J9hldA_fqe"
      },
      "outputs": [],
      "source": [
        "def twice(w):                 # function \"twice\" taking an argument 'w' and multiply w by 2\n",
        "  \"\"\"Replace w by 2*w\"\"\"\n",
        "  w *= 2\n"
      ]
    },
    {
      "cell_type": "code",
      "source": [
        "A = [0.1, 1.3, 0.4, 0.5] # list\n",
        "a = np.array(A) # numpy array\n",
        "print(a) #here a is numpy array with value [0.1, 1.3, 0.4, 0.5]"
      ],
      "metadata": {
        "colab": {
          "base_uri": "https://localhost:8080/"
        },
        "id": "qcKM6ie4EEJI",
        "outputId": "2261a0bf-21da-4062-9333-7d680990a254"
      },
      "execution_count": null,
      "outputs": [
        {
          "output_type": "stream",
          "name": "stdout",
          "text": [
            "[0.1 1.3 0.4 0.5]\n"
          ]
        }
      ]
    },
    {
      "cell_type": "code",
      "source": [
        "b=\"Umesh\" # b is string and value of string is \"Umesh\""
      ],
      "metadata": {
        "id": "smvgvNAjEZaj"
      },
      "execution_count": null,
      "outputs": []
    },
    {
      "cell_type": "code",
      "source": [
        "#-------------------here we passes a and b as argument to function twice which take an argument and multiply it by 2\n",
        "twice(a) # in case of numpy array any modifications made to the array within the function will also affect the original array outside of the function.\n",
        "twice(b)#in case of string python creates a new string with the modifications(inside function) rather than modifying the original string. This behavior ensures that the original string remains unchanged."
      ],
      "metadata": {
        "id": "B9MbWktRFp1s"
      },
      "execution_count": null,
      "outputs": []
    },
    {
      "cell_type": "code",
      "source": [
        "print(a)\n",
        "print(b)"
      ],
      "metadata": {
        "colab": {
          "base_uri": "https://localhost:8080/"
        },
        "id": "FQrq-3DsEund",
        "outputId": "71bfe9b8-b5b7-4f4c-8b44-b6a11f264731"
      },
      "execution_count": null,
      "outputs": [
        {
          "output_type": "stream",
          "name": "stdout",
          "text": [
            "[0.2 2.6 0.8 1. ]\n",
            "Umesh\n"
          ]
        }
      ]
    },
    {
      "cell_type": "markdown",
      "source": [
        "as you can see value of variable a change but value of veriable b not changed after passing a and b in function twice as argument .\n",
        "so by this we can say that numpy array is mutabal (i.e. value of numpy array veriable can be changed agter it is created)\n",
        "and string is immutable\n",
        "\n",
        "\n",
        "both the cases object v is not deep-copied when passed to the twice  becouse if we change orignal object then value of w is also change so there is no seprate copy of v"
      ],
      "metadata": {
        "id": "8OUHg8V0Hq7h"
      }
    }
  ]
}