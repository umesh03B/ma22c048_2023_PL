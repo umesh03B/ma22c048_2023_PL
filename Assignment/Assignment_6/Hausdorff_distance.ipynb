{
  "nbformat": 4,
  "nbformat_minor": 0,
  "metadata": {
    "colab": {
      "provenance": [],
      "authorship_tag": "ABX9TyPhBkofMdshWEKwV/vRWC4W",
      "include_colab_link": true
    },
    "kernelspec": {
      "name": "python3",
      "display_name": "Python 3"
    },
    "language_info": {
      "name": "python"
    }
  },
  "cells": [
    {
      "cell_type": "markdown",
      "metadata": {
        "id": "view-in-github",
        "colab_type": "text"
      },
      "source": [
        "<a href=\"https://colab.research.google.com/github/umesh03B/ma22c048_2023_PL/blob/main/Assignment/Assignment_6/Hausdorff_distance.ipynb\" target=\"_parent\"><img src=\"https://colab.research.google.com/assets/colab-badge.svg\" alt=\"Open In Colab\"/></a>"
      ]
    },
    {
      "cell_type": "code",
      "execution_count": null,
      "metadata": {
        "colab": {
          "base_uri": "https://localhost:8080/"
        },
        "id": "-2a2Np5sx62d",
        "outputId": "caa785ad-9c1b-47e1-8afb-72316d84724f"
      },
      "outputs": [
        {
          "output_type": "stream",
          "name": "stdout",
          "text": [
            "P= [[0.75926415 0.57888578]\n",
            " [0.2478004  0.48788433]\n",
            " [0.28649928 0.25180307]\n",
            " [0.91309314 0.69431935]\n",
            " [0.23895243 0.17959387]]\n",
            "\n",
            "\n",
            "\n",
            "Q= [[0.49816828 0.08174045]\n",
            " [0.08357454 0.11108679]\n",
            " [0.24700988 0.24733498]\n",
            " [0.51154965 0.14662969]\n",
            " [0.97503135 0.80006916]\n",
            " [0.58840871 0.59990761]\n",
            " [0.06848039 0.04574446]]\n"
          ]
        }
      ],
      "source": [
        "import numpy as np\n",
        "import math\n",
        "# Define two sets of points P and Q\n",
        "P = np.random.rand(5, 2)\n",
        "print(\"P=\",P)\n",
        "print(\"\\n\\n\")\n",
        "Q = np.random.rand(7, 2)\n",
        "print(\"Q=\",Q)"
      ]
    },
    {
      "cell_type": "code",
      "source": [
        "def euclidean_distance(p1, p2):#this function compute 2-norm of vector(p1-p2)\n",
        "    sum=0\n",
        "    for i in range(2):\n",
        "      sum+=pow(p1[i]-p2[i],2)\n",
        "    return math.sqrt(sum)"
      ],
      "metadata": {
        "id": "lCQ2jmpkEYHQ"
      },
      "execution_count": null,
      "outputs": []
    },
    {
      "cell_type": "code",
      "source": [
        "def hausdorff_distance(P, Q):#this function compute housedorff distance\n",
        "    max_hausdorff_distance = 0\n",
        "\n",
        "    for p in P:\n",
        "        min_distance_p_to_Q = np.inf\n",
        "        for q in Q:\n",
        "            distance = euclidean_distance(p, q)\n",
        "            if distance < min_distance_p_to_Q:\n",
        "                min_distance_p_to_Q = distance\n",
        "\n",
        "        if min_distance_p_to_Q > max_hausdorff_distance:\n",
        "            max_hausdorff_distance = min_distance_p_to_Q\n",
        "\n",
        "    for q in Q:\n",
        "        min_distance_q_to_P = np.inf\n",
        "        for p in P:\n",
        "            distance = euclidean_distance(q, p)\n",
        "            if distance < min_distance_q_to_P:\n",
        "                min_distance_q_to_P = distance\n",
        "\n",
        "        if min_distance_q_to_P > max_hausdorff_distance:\n",
        "            max_hausdorff_distance = min_distance_q_to_P\n",
        "\n",
        "    return max_hausdorff_distance"
      ],
      "metadata": {
        "id": "VlHw9cRyEhMh"
      },
      "execution_count": null,
      "outputs": []
    },
    {
      "cell_type": "code",
      "source": [
        "# Compute the Hausdorff distance between P and Q\n",
        "hausdorff_distance_PQ = hausdorff_distance(P, Q)\n",
        "\n",
        "print(\"Hausdorff distance between P and Q:\", hausdorff_distance_PQ)"
      ],
      "metadata": {
        "colab": {
          "base_uri": "https://localhost:8080/"
        },
        "id": "ujlNd4eGEkxG",
        "outputId": "37f386eb-9320-4f48-c547-8a7fa78c7802"
      },
      "execution_count": null,
      "outputs": [
        {
          "output_type": "stream",
          "name": "stdout",
          "text": [
            "Hausdorff distance between P and Q: 0.2715235868324151\n"
          ]
        }
      ]
    }
  ]
}