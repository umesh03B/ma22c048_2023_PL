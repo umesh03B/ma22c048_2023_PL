{
  "nbformat": 4,
  "nbformat_minor": 0,
  "metadata": {
    "colab": {
      "provenance": [],
      "include_colab_link": true
    },
    "kernelspec": {
      "name": "python3",
      "display_name": "Python 3"
    },
    "language_info": {
      "name": "python"
    }
  },
  "cells": [
    {
      "cell_type": "markdown",
      "metadata": {
        "id": "view-in-github",
        "colab_type": "text"
      },
      "source": [
        "<a href=\"https://colab.research.google.com/github/umesh03B/ma22c048_2023_PL/blob/main/Assignment/Assignment_6/Pairwise_differences.ipynb\" target=\"_parent\"><img src=\"https://colab.research.google.com/assets/colab-badge.svg\" alt=\"Open In Colab\"/></a>"
      ]
    },
    {
      "cell_type": "code",
      "execution_count": null,
      "metadata": {
        "colab": {
          "base_uri": "https://localhost:8080/"
        },
        "id": "3LVEpXuVt_MT",
        "outputId": "e9d04a1d-1f23-474d-f3d3-f43759f1b74b"
      },
      "outputs": [
        {
          "output_type": "stream",
          "name": "stdout",
          "text": [
            "[[ 0.         -0.00360581 -0.19451765 -0.20489685 -0.10533089]\n",
            " [ 0.00360581  0.         -0.19091185 -0.20129104 -0.10172508]\n",
            " [ 0.19451765  0.19091185  0.         -0.0103792   0.08918677]\n",
            " [ 0.20489685  0.20129104  0.0103792   0.          0.09956596]\n",
            " [ 0.10533089  0.10172508 -0.08918677 -0.09956596  0.        ]]\n"
          ]
        }
      ],
      "source": [
        "import numpy as np\n",
        "\n",
        "x = np.random.rand(5) #generates a 1D NumPy array x of length 5 filled with random numbers between 0 and 1 using the np.random.rand function.\n",
        "\n",
        "D = np.subtract.outer(x, x)  #np.subtract.outer(x, x) will be a 2D array where each element at position [i][j] represents the result of subtracting x[i] from x[j].\n",
        "print(D)"
      ]
    },
    {
      "cell_type": "code",
      "source": [
        "#extanded version\n",
        "A = np.zeros((5,5))\n",
        "for i in range(5):\n",
        "  for j in range (5):\n",
        "    A[i][j]=x[i]-x[j]\n",
        "\n",
        "print(A)"
      ],
      "metadata": {
        "colab": {
          "base_uri": "https://localhost:8080/"
        },
        "id": "f7cig1Zjw1QC",
        "outputId": "6e613c69-ee5e-4a68-afeb-33e13cd3fd35"
      },
      "execution_count": null,
      "outputs": [
        {
          "output_type": "stream",
          "name": "stdout",
          "text": [
            "[[ 0.         -0.00360581 -0.19451765 -0.20489685 -0.10533089]\n",
            " [ 0.00360581  0.         -0.19091185 -0.20129104 -0.10172508]\n",
            " [ 0.19451765  0.19091185  0.         -0.0103792   0.08918677]\n",
            " [ 0.20489685  0.20129104  0.0103792   0.          0.09956596]\n",
            " [ 0.10533089  0.10172508 -0.08918677 -0.09956596  0.        ]]\n"
          ]
        }
      ]
    }
  ]
}