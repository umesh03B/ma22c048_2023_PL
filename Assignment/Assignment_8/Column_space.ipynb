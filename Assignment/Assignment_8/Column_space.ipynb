{
  "nbformat": 4,
  "nbformat_minor": 0,
  "metadata": {
    "colab": {
      "provenance": [],
      "authorship_tag": "ABX9TyPiurLxiYLUNR9g4M9ht3yl",
      "include_colab_link": true
    },
    "kernelspec": {
      "name": "python3",
      "display_name": "Python 3"
    },
    "language_info": {
      "name": "python"
    }
  },
  "cells": [
    {
      "cell_type": "markdown",
      "metadata": {
        "id": "view-in-github",
        "colab_type": "text"
      },
      "source": [
        "<a href=\"https://colab.research.google.com/github/umesh03B/ma22c048_2023_PL/blob/main/Assignment/Assignment_8/Column_space.ipynb\" target=\"_parent\"><img src=\"https://colab.research.google.com/assets/colab-badge.svg\" alt=\"Open In Colab\"/></a>"
      ]
    },
    {
      "cell_type": "code",
      "execution_count": 2,
      "metadata": {
        "id": "9jS36lPMKbTU"
      },
      "outputs": [],
      "source": [
        "import numpy as np\n",
        "from scipy.linalg import qr,svd\n"
      ]
    },
    {
      "cell_type": "code",
      "source": [
        "A = np.array([[1, -2, 3, -3], [2, -4, 9, -2], [-3, 6, -9, 9]])"
      ],
      "metadata": {
        "id": "dZACj_jAMz80"
      },
      "execution_count": 3,
      "outputs": []
    },
    {
      "cell_type": "code",
      "source": [
        "# SVD\n",
        "u, s, vT = svd(A)\n",
        "print(\"SVD U Matrix:\")\n",
        "print(u)\n",
        "print(\"SVD U Transpose:\")\n",
        "print(u.T)"
      ],
      "metadata": {
        "colab": {
          "base_uri": "https://localhost:8080/"
        },
        "id": "sUwVsNM1M09H",
        "outputId": "090412ab-500f-45d7-b650-286a463432e8"
      },
      "execution_count": 8,
      "outputs": [
        {
          "output_type": "stream",
          "name": "stdout",
          "text": [
            "SVD U Matrix:\n",
            "[[ 2.66235859e-01  1.70641342e-01  9.48683298e-01]\n",
            " [ 5.39615303e-01 -8.41911709e-01 -5.55111512e-17]\n",
            " [-7.98707576e-01 -5.11924025e-01  3.16227766e-01]]\n",
            "SVD U Transpose:\n",
            "[[ 2.66235859e-01  5.39615303e-01 -7.98707576e-01]\n",
            " [ 1.70641342e-01 -8.41911709e-01 -5.11924025e-01]\n",
            " [ 9.48683298e-01 -5.55111512e-17  3.16227766e-01]]\n"
          ]
        }
      ]
    },
    {
      "cell_type": "code",
      "source": [
        "# QR factorization\n",
        "q, r = qr(A)\n",
        "print(\"QR Q Matrix:\")\n",
        "print(q)\n",
        "print(\"QR R Matrix:\")\n",
        "print(r)"
      ],
      "metadata": {
        "colab": {
          "base_uri": "https://localhost:8080/"
        },
        "id": "ofq8oHelNBy_",
        "outputId": "db85be1f-110d-43de-885e-969acd566be1"
      },
      "execution_count": 9,
      "outputs": [
        {
          "output_type": "stream",
          "name": "stdout",
          "text": [
            "QR Q Matrix:\n",
            "[[-0.26726124  0.95618289 -0.11952286]\n",
            " [-0.53452248 -0.04390192  0.84401323]\n",
            " [ 0.80178373  0.28945968  0.52283453]]\n",
            "QR R Matrix:\n",
            "[[-3.74165739e+00  7.48331477e+00 -1.28285396e+01  9.08688223e+00]\n",
            " [ 0.00000000e+00 -1.98602732e-15 -1.31705767e-01 -1.75607689e-01]\n",
            " [ 0.00000000e+00  0.00000000e+00  2.53203970e+00  3.37605293e+00]]\n"
          ]
        }
      ]
    },
    {
      "cell_type": "code",
      "source": [
        "# Task 2: Verify if the basis from SVD and QR can generate the same vector space\n",
        "aug_uq = np.vstack((u, q.T))\n",
        "print(\"Augmented Matrix [u, q.T]:\")\n",
        "print(aug_uq)\n",
        "\n",
        "rank_aug_uq = np.linalg.matrix_rank(aug_uq)\n",
        "rank_u = np.linalg.matrix_rank(u)\n",
        "rank_q = np.linalg.matrix_rank(q)\n",
        "\n",
        "print(\"Rank of [u, q.T]:\", rank_aug_uq)\n",
        "print(\"Rank of u:\", rank_u)\n",
        "print(\"Rank of q:\", rank_q)"
      ],
      "metadata": {
        "colab": {
          "base_uri": "https://localhost:8080/"
        },
        "id": "udmx8cMdRU4y",
        "outputId": "0879d240-75ec-4433-fe01-b88f5b744b70"
      },
      "execution_count": 10,
      "outputs": [
        {
          "output_type": "stream",
          "name": "stdout",
          "text": [
            "Augmented Matrix [u, q.T]:\n",
            "[[ 2.66235859e-01  1.70641342e-01  9.48683298e-01]\n",
            " [ 5.39615303e-01 -8.41911709e-01 -5.55111512e-17]\n",
            " [-7.98707576e-01 -5.11924025e-01  3.16227766e-01]\n",
            " [-2.67261242e-01 -5.34522484e-01  8.01783726e-01]\n",
            " [ 9.56182887e-01 -4.39019222e-02  2.89459681e-01]\n",
            " [-1.19522861e-01  8.44013232e-01  5.22834534e-01]]\n",
            "Rank of [u, q.T]: 3\n",
            "Rank of u: 3\n",
            "Rank of q: 3\n"
          ]
        }
      ]
    },
    {
      "cell_type": "code",
      "source": [
        "if rank_aug_uq == rank_u == rank_q:\n",
        "    print(\"Both bases can generate the same column space.\")"
      ],
      "metadata": {
        "colab": {
          "base_uri": "https://localhost:8080/"
        },
        "id": "kXniHn_zRf4y",
        "outputId": "9eaa9409-b039-43fb-8416-1ab187684460"
      },
      "execution_count": 11,
      "outputs": [
        {
          "output_type": "stream",
          "name": "stdout",
          "text": [
            "Both bases can generate the same column space.\n"
          ]
        }
      ]
    },
    {
      "cell_type": "code",
      "source": [
        "# Task 3: Compare the execution time of SVD and QR on random matrices\n",
        "B = np.random.rand(500, 500)\n",
        "\n",
        "print(\"\\nComparing execution time of SVD and QR on a random 500x500 matrix:\")\n",
        "\n",
        "# Measure the execution time for SVD\n",
        "%timeit U, S, VT = svd(B)\n",
        "\n",
        "# Measure the execution time for QR\n",
        "%timeit Q, R = qr(B)"
      ],
      "metadata": {
        "colab": {
          "base_uri": "https://localhost:8080/"
        },
        "id": "Ag4jelA5Rnrx",
        "outputId": "19f6ae67-35f0-4b5b-b0c4-e78a31158d4a"
      },
      "execution_count": 12,
      "outputs": [
        {
          "output_type": "stream",
          "name": "stdout",
          "text": [
            "\n",
            "Comparing execution time of SVD and QR on a random 500x500 matrix:\n",
            "138 ms ± 33.7 ms per loop (mean ± std. dev. of 7 runs, 10 loops each)\n",
            "29.2 ms ± 874 µs per loop (mean ± std. dev. of 7 runs, 10 loops each)\n"
          ]
        }
      ]
    }
  ]
}