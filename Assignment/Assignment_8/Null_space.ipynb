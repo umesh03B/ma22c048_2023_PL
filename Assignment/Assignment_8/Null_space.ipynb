{
  "nbformat": 4,
  "nbformat_minor": 0,
  "metadata": {
    "colab": {
      "provenance": [],
      "authorship_tag": "ABX9TyNYamEDbktERZu9JEIVXGlN",
      "include_colab_link": true
    },
    "kernelspec": {
      "name": "python3",
      "display_name": "Python 3"
    },
    "language_info": {
      "name": "python"
    }
  },
  "cells": [
    {
      "cell_type": "markdown",
      "metadata": {
        "id": "view-in-github",
        "colab_type": "text"
      },
      "source": [
        "<a href=\"https://colab.research.google.com/github/umesh03B/ma22c048_2023_PL/blob/main/Assignment/Assignment_8/Null_space.ipynb\" target=\"_parent\"><img src=\"https://colab.research.google.com/assets/colab-badge.svg\" alt=\"Open In Colab\"/></a>"
      ]
    },
    {
      "cell_type": "code",
      "execution_count": 8,
      "metadata": {
        "colab": {
          "base_uri": "https://localhost:8080/"
        },
        "id": "mPnb2w6KR3xV",
        "outputId": "d3d5bc6e-ceac-4602-d803-5c42e1342cd1"
      },
      "outputs": [
        {
          "output_type": "stream",
          "name": "stdout",
          "text": [
            "Null space using SVD:\n",
            "[-0.87219483  0.3573579   0.29073161 -0.14709627 -0.07354813]\n"
          ]
        }
      ],
      "source": [
        "import numpy as np\n",
        "from scipy.linalg import svd\n",
        "\n",
        "# Given matrix A\n",
        "A = np.array([[1, -2, 9, 5, 4], [1, -1, 6, 5, -3], [-2, 0, -6, 1, -2], [4, 1, 9, 1, -9]])\n",
        "\n",
        "# Perform SVD on A\n",
        "u, s, vh = svd(A)\n",
        "\n",
        "# Find the null space from SVD\n",
        "null_space_svd = vh.T[:, np.where(s < 1e-10)].squeeze()\n",
        "print(\"Null space using SVD:\")\n",
        "print(null_space_svd)\n"
      ]
    },
    {
      "cell_type": "code",
      "source": [
        "\n",
        "from scipy.linalg import qr\n",
        "\n",
        "# Given matrix A\n",
        "A = np.array([[1, -2, 9, 5, 4], [1, -1, 6, 5, -3], [-2, 0, -6, 1, -2], [4, 1, 9, 1, -9]])\n",
        "\n",
        "# Perform QR factorization on the transpose of A\n",
        "Q, R = qr(A.T)\n",
        "\n",
        "# Extract the orthogonal complement from QR factorization\n",
        "null_space_qr = Q[:, np.where(np.abs(np.diag(R)) < 1e-10)].squeeze()\n",
        "print(\"Null space using QR factorization (orthogonal complement of range of transpose A):\")\n",
        "print(null_space_qr)\n"
      ],
      "metadata": {
        "colab": {
          "base_uri": "https://localhost:8080/"
        },
        "id": "GN5pD19NVA6j",
        "outputId": "45390feb-18e7-4cd7-83c8-9aff18f112d7"
      },
      "execution_count": 11,
      "outputs": [
        {
          "output_type": "stream",
          "name": "stdout",
          "text": [
            "Null space using QR factorization (orthogonal complement of range of transpose A):\n",
            "[ 0.57324869  0.68751498 -0.1910829   0.36021819  0.18010909]\n"
          ]
        }
      ]
    },
    {
      "cell_type": "code",
      "source": [
        "# Check if both null spaces span the same space\n",
        "span_same_space = np.allclose(null_space_svd, null_space_qr)\n",
        "if span_same_space:\n",
        "    print(\"Both null spaces span the same space.\")\n",
        "else:\n",
        "    print(\"Both null spaces do not span the same space.\")"
      ],
      "metadata": {
        "colab": {
          "base_uri": "https://localhost:8080/"
        },
        "id": "mvrljfzPVd6M",
        "outputId": "f22f874a-8910-4a02-b2f4-f6f11603ac94"
      },
      "execution_count": 10,
      "outputs": [
        {
          "output_type": "stream",
          "name": "stdout",
          "text": [
            "Both null spaces do not span the same space.\n"
          ]
        }
      ]
    }
  ]
}