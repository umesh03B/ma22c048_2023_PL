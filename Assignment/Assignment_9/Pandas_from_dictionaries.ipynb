{
  "nbformat": 4,
  "nbformat_minor": 0,
  "metadata": {
    "colab": {
      "provenance": [],
      "include_colab_link": true
    },
    "kernelspec": {
      "name": "python3",
      "display_name": "Python 3"
    },
    "language_info": {
      "name": "python"
    }
  },
  "cells": [
    {
      "cell_type": "markdown",
      "metadata": {
        "id": "view-in-github",
        "colab_type": "text"
      },
      "source": [
        "<a href=\"https://colab.research.google.com/github/umesh03B/ma22c048_2023_PL/blob/main/Assignment/Assignment_9/Pandas_from_dictionaries.ipynb\" target=\"_parent\"><img src=\"https://colab.research.google.com/assets/colab-badge.svg\" alt=\"Open In Colab\"/></a>"
      ]
    },
    {
      "cell_type": "code",
      "execution_count": null,
      "metadata": {
        "colab": {
          "base_uri": "https://localhost:8080/"
        },
        "id": "kfxJUVN4dq-v",
        "outputId": "9165f53c-c5d6-427d-8bc6-7c024b8d4559"
      },
      "outputs": [
        {
          "output_type": "stream",
          "name": "stdout",
          "text": [
            "2    a\n",
            "1    b\n",
            "3    c\n",
            "dtype: object\n"
          ]
        }
      ],
      "source": [
        "import pandas as pd\n",
        "\n",
        "d0 = {2: 'a', 1: 'b', 3: 'c'}#dictionary d0 has keys 2, 1, and 3, with corresponding values 'a', 'b', and 'c'\n",
        "pd0 = pd.Series(d0)#create a Series from this dictionary\n",
        "\n",
        "print(pd0)\n"
      ]
    },
    {
      "cell_type": "code",
      "source": [
        "# Sort the indices\n",
        "#Sort the Series pd0 by its index\n",
        "pd0 = pd0.sort_index()\n",
        "\n",
        "print(pd0)"
      ],
      "metadata": {
        "colab": {
          "base_uri": "https://localhost:8080/"
        },
        "id": "1tTYsFrmeLyk",
        "outputId": "f105b82e-b2b2-4f78-d86f-b74d877e6fad"
      },
      "execution_count": null,
      "outputs": [
        {
          "output_type": "stream",
          "name": "stdout",
          "text": [
            "1    b\n",
            "2    a\n",
            "3    c\n",
            "dtype: object\n"
          ]
        }
      ]
    },
    {
      "cell_type": "code",
      "source": [
        "d1 = {'a': 1, 'b': 2}\n",
        "d2 = {'b': 3, 'c': 4}\n",
        "\n",
        "# Create Series from d1 and d2\n",
        "pd1 = pd.Series(d1)\n",
        "pd2 = pd.Series(d2)\n",
        "\n",
        "# Concatenate the Series into a DataFrame\n",
        "#The pd1 and pd2 Series are concatenated horizontally along axis 1 to create a DataFrame dd.\n",
        "# The keys parameter is used to label the columns 'd1' and 'd2' in the resulting DataFrame.\n",
        "dd = pd.concat([pd1, pd2], axis=1, keys=['d1', 'd2'])\n",
        "\n",
        "print(dd)"
      ],
      "metadata": {
        "colab": {
          "base_uri": "https://localhost:8080/"
        },
        "id": "mbeVJ2OXg-74",
        "outputId": "896e8e7a-1249-43a3-f172-e757e0cc67ed"
      },
      "execution_count": null,
      "outputs": [
        {
          "output_type": "stream",
          "name": "stdout",
          "text": [
            "    d1   d2\n",
            "a  1.0  NaN\n",
            "b  2.0  3.0\n",
            "c  NaN  4.0\n"
          ]
        }
      ]
    },
    {
      "cell_type": "code",
      "source": [
        "column_d1 = dd['d1']  # Access the 'd1' column\n",
        "print(column_d1)"
      ],
      "metadata": {
        "colab": {
          "base_uri": "https://localhost:8080/"
        },
        "id": "1fk1ou-ghm7w",
        "outputId": "4c52b891-686e-4056-8a1d-ba3696945543"
      },
      "execution_count": null,
      "outputs": [
        {
          "output_type": "stream",
          "name": "stdout",
          "text": [
            "a    1.0\n",
            "b    2.0\n",
            "c    NaN\n",
            "Name: d1, dtype: float64\n"
          ]
        }
      ]
    },
    {
      "cell_type": "code",
      "source": [
        "columns_d1_and_d2 = dd[['d1', 'd2']]  # Access both 'd1' and 'd2' columns\n",
        "print(columns_d1_and_d2)"
      ],
      "metadata": {
        "colab": {
          "base_uri": "https://localhost:8080/"
        },
        "id": "QBtwNn4_hqKy",
        "outputId": "73a81c1b-ec45-4d1c-c36a-b2197acfd9cd"
      },
      "execution_count": null,
      "outputs": [
        {
          "output_type": "stream",
          "name": "stdout",
          "text": [
            "    d1   d2\n",
            "a  1.0  NaN\n",
            "b  2.0  3.0\n",
            "c  NaN  4.0\n"
          ]
        }
      ]
    },
    {
      "cell_type": "code",
      "source": [
        "# Access rows from index 1 to 2 (inclusive)\n",
        "sliced_rows = dd[1:3]#stop index is not include.\n",
        "print(sliced_rows)"
      ],
      "metadata": {
        "colab": {
          "base_uri": "https://localhost:8080/"
        },
        "id": "u3uCq0Cahs0y",
        "outputId": "cad87c65-a7e8-4c30-8b59-483830729e76"
      },
      "execution_count": null,
      "outputs": [
        {
          "output_type": "stream",
          "name": "stdout",
          "text": [
            "    d1   d2\n",
            "b  2.0  3.0\n",
            "c  NaN  4.0\n"
          ]
        }
      ]
    },
    {
      "cell_type": "code",
      "source": [
        "# Access specific rows by label and specific columns by label\n",
        "sliced_subset = dd.loc[['a', 'b', 'c'], ['d1', 'd2']]\n",
        "print(sliced_subset)"
      ],
      "metadata": {
        "colab": {
          "base_uri": "https://localhost:8080/"
        },
        "id": "OpYfRCWgjN7_",
        "outputId": "1c55ae06-1afc-4e6b-8be6-0b76ca4da467"
      },
      "execution_count": null,
      "outputs": [
        {
          "output_type": "stream",
          "name": "stdout",
          "text": [
            "    d1   d2\n",
            "a  1.0  NaN\n",
            "b  2.0  3.0\n",
            "c  NaN  4.0\n"
          ]
        }
      ]
    },
    {
      "cell_type": "code",
      "source": [
        "# Access specific rows and columns by integer position\n",
        "sliced_subset_iloc = dd.iloc[1:3, 0:1]  # Access rows 1 and 2, columns 0\n",
        "print(sliced_subset_iloc)"
      ],
      "metadata": {
        "colab": {
          "base_uri": "https://localhost:8080/"
        },
        "id": "tBFPMaFbj29f",
        "outputId": "5670c66a-68dd-4fb3-a3e4-0afc081f05bf"
      },
      "execution_count": null,
      "outputs": [
        {
          "output_type": "stream",
          "name": "stdout",
          "text": [
            "    d1\n",
            "b  2.0\n",
            "c  NaN\n"
          ]
        }
      ]
    },
    {
      "cell_type": "code",
      "source": [
        "# Access the first row (integer position 0) and the first column (integer position 0)\n",
        "value = dd.iloc[0, 0]\n",
        "print(value)"
      ],
      "metadata": {
        "colab": {
          "base_uri": "https://localhost:8080/"
        },
        "id": "IqYywc4HmlKF",
        "outputId": "76a6d87b-534d-4e78-ea7a-c6afcffd2425"
      },
      "execution_count": null,
      "outputs": [
        {
          "output_type": "stream",
          "name": "stdout",
          "text": [
            "1.0\n"
          ]
        }
      ]
    },
    {
      "cell_type": "code",
      "source": [
        "# Access a subset of rows and columns using integer positions\n",
        "subset = dd.iloc[1:3, 0:2]  # Rows 1 and 2, columns 0 and 1\n",
        "print(subset)"
      ],
      "metadata": {
        "colab": {
          "base_uri": "https://localhost:8080/"
        },
        "id": "X8omJ39ImnHc",
        "outputId": "b0ba7a4d-638d-4cc8-f22a-e6a274331e2a"
      },
      "execution_count": null,
      "outputs": [
        {
          "output_type": "stream",
          "name": "stdout",
          "text": [
            "    d1   d2\n",
            "b  2.0  3.0\n",
            "c  NaN  4.0\n"
          ]
        }
      ]
    },
    {
      "cell_type": "code",
      "source": [
        "# Access an element by row label 'a' and column label 'd1'\n",
        "value = dd.loc['a', 'd1']\n",
        "print(value)"
      ],
      "metadata": {
        "colab": {
          "base_uri": "https://localhost:8080/"
        },
        "id": "_dpCyix1nZT3",
        "outputId": "99ad67ba-8ea3-4a25-f64d-058821017029"
      },
      "execution_count": null,
      "outputs": [
        {
          "output_type": "stream",
          "name": "stdout",
          "text": [
            "1.0\n"
          ]
        }
      ]
    },
    {
      "cell_type": "code",
      "source": [
        "# Access a subset of rows and columns by labels\n",
        "subset = dd.loc[['a', 'b', 'c'], ['d1', 'd2']]\n",
        "print(subset)"
      ],
      "metadata": {
        "colab": {
          "base_uri": "https://localhost:8080/"
        },
        "id": "fDIxto2Lne6O",
        "outputId": "dc88a67b-6933-4adb-eef9-99b5082c759b"
      },
      "execution_count": null,
      "outputs": [
        {
          "output_type": "stream",
          "name": "stdout",
          "text": [
            "    d1   d2\n",
            "a  1.0  NaN\n",
            "b  2.0  3.0\n",
            "c  NaN  4.0\n"
          ]
        }
      ]
    },
    {
      "cell_type": "code",
      "source": [
        "# Forward fill along rows (axis 0)\n",
        "print(f\"orignal dataframe\\n {dd}\\n\")\n",
        "filled_df_rows = dd.fillna(method='ffill', axis=0)\n",
        "print(f\"forwaded filling along axes 0(row) \\n{filled_df_rows}\")"
      ],
      "metadata": {
        "colab": {
          "base_uri": "https://localhost:8080/"
        },
        "id": "bzrhDCGJnnwy",
        "outputId": "13e76631-7226-47f2-c46a-c3e335b3c746"
      },
      "execution_count": null,
      "outputs": [
        {
          "output_type": "stream",
          "name": "stdout",
          "text": [
            "orignal dataframe\n",
            "     d1   d2\n",
            "a  1.0  NaN\n",
            "b  2.0  3.0\n",
            "c  NaN  4.0\n",
            "\n",
            "forwaded filling along axes 0(row) \n",
            "    d1   d2\n",
            "a  1.0  NaN\n",
            "b  2.0  3.0\n",
            "c  2.0  4.0\n"
          ]
        }
      ]
    },
    {
      "cell_type": "code",
      "source": [
        "# Forward fill along columns (axis 1)\n",
        "\n",
        "filled_df_columns = dd.fillna(method='ffill', axis=1)\n",
        "print(f\"forwaded filling along axes 1(colume) \\n{filled_df_columns}\")"
      ],
      "metadata": {
        "colab": {
          "base_uri": "https://localhost:8080/"
        },
        "id": "chP350WLuLA6",
        "outputId": "cac67df7-7961-4924-b8ea-02d35e9f7f87"
      },
      "execution_count": null,
      "outputs": [
        {
          "output_type": "stream",
          "name": "stdout",
          "text": [
            "forwaded filling along axes 1(colume) \n",
            "    d1   d2\n",
            "a  1.0  1.0\n",
            "b  2.0  3.0\n",
            "c  NaN  4.0\n"
          ]
        }
      ]
    },
    {
      "cell_type": "code",
      "source": [
        "# Backward fill along rows (axis 0)\n",
        "filled_df_rows = dd.fillna(method='bfill', axis=0)\n",
        "print(f\"backward filling along axes 0(row) \\n{filled_df_rows}\")"
      ],
      "metadata": {
        "colab": {
          "base_uri": "https://localhost:8080/"
        },
        "id": "T_GcryA3vBPb",
        "outputId": "53cae967-716c-4387-d15c-ed86f53e741c"
      },
      "execution_count": null,
      "outputs": [
        {
          "output_type": "stream",
          "name": "stdout",
          "text": [
            "backward filling along axes 0(row) \n",
            "    d1   d2\n",
            "a  1.0  3.0\n",
            "b  2.0  3.0\n",
            "c  NaN  4.0\n"
          ]
        }
      ]
    },
    {
      "cell_type": "code",
      "source": [
        "# Backward fill along columns (axis 1)\n",
        "filled_df_columns = dd.fillna(method='bfill', axis=1)\n",
        "print(f\"backward filling along axes 1(colume) \\n{filled_df_columns}\")"
      ],
      "metadata": {
        "colab": {
          "base_uri": "https://localhost:8080/"
        },
        "id": "cYBQpNoHvScZ",
        "outputId": "a6615c30-297c-4166-af4a-f81cd4dec97a"
      },
      "execution_count": null,
      "outputs": [
        {
          "output_type": "stream",
          "name": "stdout",
          "text": [
            "backward filling along axes 1(colume) \n",
            "    d1   d2\n",
            "a  1.0  NaN\n",
            "b  2.0  3.0\n",
            "c  4.0  4.0\n"
          ]
        }
      ]
    }
  ]
}