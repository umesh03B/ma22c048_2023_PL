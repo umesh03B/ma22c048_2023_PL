{
  "nbformat": 4,
  "nbformat_minor": 0,
  "metadata": {
    "colab": {
      "provenance": [],
      "authorship_tag": "ABX9TyNoao/F27kMz6KrbNwQgAG4",
      "include_colab_link": true
    },
    "kernelspec": {
      "name": "python3",
      "display_name": "Python 3"
    },
    "language_info": {
      "name": "python"
    }
  },
  "cells": [
    {
      "cell_type": "markdown",
      "metadata": {
        "id": "view-in-github",
        "colab_type": "text"
      },
      "source": [
        "<a href=\"https://colab.research.google.com/github/umesh03B/ma22c048_2023_PL/blob/main/Assignment_2/Bisection.ipynb\" target=\"_parent\"><img src=\"https://colab.research.google.com/assets/colab-badge.svg\" alt=\"Open In Colab\"/></a>"
      ]
    },
    {
      "cell_type": "code",
      "execution_count": null,
      "metadata": {
        "colab": {
          "base_uri": "https://localhost:8080/"
        },
        "id": "7d0Cs4EKosNz",
        "outputId": "0385bf3f-9bd1-41e9-dc29-ce975437ce8f"
      },
      "outputs": [
        {
          "output_type": "stream",
          "name": "stdout",
          "text": [
            "a(interval start from a)= 1\n",
            "b(interval ended at b)= 2\n",
            "eps(for accuracy)= 1e-10\n",
            "type your function = cos(x)\n",
            "number of ittretion=34\n",
            "root(using bisection) = 1.570796326821437\n",
            "value of function at root(using bisection)= -2.6540486305139185e-11\n"
          ]
        }
      ],
      "source": [
        "import math\n",
        "from math import cos,sin\n",
        "\n",
        "a=float(input(\"a(interval started from a)= \"))\n",
        "b=float(input(\"b(interval ended at b)= \"))\n",
        "eps=float(input(\"eps(for accuracy)= \"))\n",
        "\n",
        "fun=input('type your function(eg=math.cos,math.sin) = ')\n",
        "\n",
        "#---------------------------------------------------------------------------------------------------------------------------\n",
        "#---------------------------------------------------------------------------------------------------------------------------\n",
        "def func():\n",
        "    \"\"\"it convert veriabal fun (which is sting and which contain mathematical expretion) into a mathematical function \"\"\"\n",
        "    return lambda x: eval(fun)\n",
        "\n",
        "\n",
        "def no_of_iterations(a,b,eps):\n",
        "    \"\"\"this function gives number of iterations \"\"\"\n",
        "    i=0\n",
        "    while (b-a)/(2**i)>eps:\n",
        "        i+=1\n",
        "    print(f'number of iterations={i}')\n",
        "    return i\n",
        "\n",
        "\n",
        "def bisection(f, a, b, eps, niters):\n",
        "    \"\"\"this function calculate root with the help of bisection method \"\"\"\n",
        "    if f(a) * f(b) > 0:\n",
        "        return print('f(a) and f(b) must be of apposit sign')\n",
        "    else:\n",
        "        for i in range(niters+1):\n",
        "            if f(a) * f(b) == 0:\n",
        "                if f(a)==0:\n",
        "                    return print(f\"{a} is root of function\")\n",
        "                else:\n",
        "                    return print(f\"{b} is root of function\")\n",
        "            if f(a)*f(b)<0:\n",
        "                c=(a+b)/2\n",
        "                if f(a) * f(c) < 0:\n",
        "                    b=c\n",
        "                else:\n",
        "                    a=c\n",
        "        print(f\"root(using bisection) = {c}\")\n",
        "        print(f\"value of function at root(using bisection)= {f(c)}\")\n",
        "\n",
        "#----------------------------------------------------------------------------------------------------------------------------------\n",
        "f=func()\n",
        "niters=no_of_iterations(a,b,eps)\n",
        "\n",
        "bisection(f,a,b,eps,niters)\n"
      ]
    }
  ]
}